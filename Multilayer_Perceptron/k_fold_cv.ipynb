{
 "cells": [
  {
   "cell_type": "code",
   "execution_count": 1,
   "id": "2f7e568c",
   "metadata": {},
   "outputs": [],
   "source": [
    "import numpy as np"
   ]
  },
  {
   "cell_type": "code",
   "execution_count": 17,
   "id": "c3a40583",
   "metadata": {},
   "outputs": [],
   "source": [
    "def cv_k_fold(k,i,X,y):\n",
    "    assert k>1\n",
    "    foldSize = X.shape[0]//k\n",
    "    X_Train, y_Train = None, None\n",
    "    for m in range(k):\n",
    "        idx = slice(m * foldSize, (m+1)*foldSize)\n",
    "        X_p, y_p = X[idx,:],y[idx]\n",
    "        if m == i:\n",
    "            X_v, y_v = X_p, y_p\n",
    "        elif X_Train is None:\n",
    "            X_Train, y_Train = X_p, y_p\n",
    "        else:\n",
    "            X_Train = np.concatenate((X_Train,X_p), 0)\n",
    "            y_Train = np.concatenate((y_Train,y_p), 0)\n",
    "    return X_Train, y_Train, X_v, y_v"
   ]
  },
  {
   "cell_type": "code",
   "execution_count": 6,
   "id": "118502ed",
   "metadata": {},
   "outputs": [
    {
     "data": {
      "text/plain": [
       "slice(30, 40, None)"
      ]
     },
     "execution_count": 6,
     "metadata": {},
     "output_type": "execute_result"
    }
   ],
   "source": [
    "slice(3 * 10, 4*10)"
   ]
  },
  {
   "cell_type": "code",
   "execution_count": 18,
   "id": "4233cb9a",
   "metadata": {},
   "outputs": [
    {
     "data": {
      "text/plain": [
       "(array([[3, 4, 5],\n",
       "        [4, 5, 6]]),\n",
       " array([3, 4]),\n",
       " array([[1, 2, 3],\n",
       "        [2, 3, 4]]),\n",
       " array([1, 2]))"
      ]
     },
     "execution_count": 18,
     "metadata": {},
     "output_type": "execute_result"
    }
   ],
   "source": [
    "X = np.array([[1,2,3],\n",
    "          [2,3,4],\n",
    "          [3,4,5],\n",
    "          [4,5,6],\n",
    "          [6,7,8]])\n",
    "y = np.array([1,2,3,4,5])\n",
    "cv_k_fold(2,0,X,y)"
   ]
  }
 ],
 "metadata": {
  "kernelspec": {
   "display_name": "Python 3 (ipykernel)",
   "language": "python",
   "name": "python3"
  },
  "language_info": {
   "codemirror_mode": {
    "name": "ipython",
    "version": 3
   },
   "file_extension": ".py",
   "mimetype": "text/x-python",
   "name": "python",
   "nbconvert_exporter": "python",
   "pygments_lexer": "ipython3",
   "version": "3.9.18"
  }
 },
 "nbformat": 4,
 "nbformat_minor": 5
}
