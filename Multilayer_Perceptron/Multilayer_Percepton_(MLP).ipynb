{
 "cells": [
  {
   "cell_type": "code",
   "execution_count": 1,
   "id": "82613b2e",
   "metadata": {},
   "outputs": [],
   "source": [
    "import numpy as np\n",
    "import pandas as pd # only used for read data\n",
    "import matplotlib.pyplot as plt # only used for plot"
   ]
  },
  {
   "cell_type": "code",
   "execution_count": 2,
   "id": "9be711e3",
   "metadata": {},
   "outputs": [],
   "source": [
    "class multiLayterPercepton:\n",
    "    def __init__(self, num_outputs, batch_size = 32, Learning_Rate = 0.0001,k = 10, n_Iteration = 200, num_hiddens = 128):\n",
    "        self.num_outputs = num_outputs\n",
    "        self.batch_size = batch_size\n",
    "        self.Learning_Rate = Learning_Rate\n",
    "        self.n_Iteration = n_Iteration\n",
    "        self.num_hiddens = num_hiddens\n",
    "        self.k = k\n",
    "    \n",
    "    def initParameters(self,X):\n",
    "        self.num_features,self.num_observation  = X.shape[1],X.shape[0]\n",
    "        self.W1 = np.random.randn(self.num_features, self.num_hiddens)*0.01\n",
    "        self.b1 = np.random.randn(self.num_hiddens)\n",
    "        self.W2 = np.random.randn(self.num_hiddens, self.num_outputs)*0.01\n",
    "        self.b2 = np.random.randn(self.num_outputs)\n",
    "        \n",
    "    def net(self,X):\n",
    "        self.Z1 = X@self.W1 +self.b1\n",
    "        self.A1 = Relu(self.Z1)\n",
    "        Z2 = self.A1@self.W2 +self.b2\n",
    "        self.A2 = Softmax(Z2)\n",
    "    \n",
    "    def backPropagation(self,X,y):\n",
    "        dZ2 = self.A2 - self.one_hot(y)\n",
    "        dW2 = np.dot(self.A1.T,dZ2)/self.num_observation\n",
    "        db2 = dZ2.mean(0)\n",
    "        dZ1 = np.dot(dZ2, self.W2.T)*d_Relu(self.Z1)\n",
    "        dW1 = np.dot(X.T, dZ1)/self.num_observation\n",
    "        db1 = dZ1.mean(0)\n",
    "        # Update\n",
    "        self.W2 = self.W2 - self.Learning_Rate*dW2\n",
    "        self.b2 = self.b2 - self.Learning_Rate*db2\n",
    "        self.W1 = self.W1 - self.Learning_Rate*dW1\n",
    "        self.b1 = self.b1 - self.Learning_Rate*db1\n",
    "        \n",
    "    def train(self, X_train, y_train, X_test, y_test):\n",
    "        self.initParameters(X_train)\n",
    "        self.train_ls, self.test_ls = [],[]\n",
    "        for i in range(self.n_Iteration):\n",
    "            for X_b, y_b in data_iteration(self.batch_size,X_train,y_train):\n",
    "                self.net(X_b)\n",
    "                self.backPropagation(X_b, y_b)\n",
    "            # record accuarcy\n",
    "            self.net(X_train)\n",
    "            Train_acc = get_accuracy(get_pred(self.A2),y_train)\n",
    "            self.train_ls.append(Train_acc)\n",
    "            if y_test is not None:\n",
    "                self.net(X_test)\n",
    "                test_acc = get_accuracy(get_pred(self.A2),y_test)\n",
    "                self.test_ls.append(test_acc)\n",
    "\n",
    "    def k_fold_train(self,X,y):\n",
    "        self.train_ls_sum, self.valid_l_sum = 0, 0\n",
    "        for i in range(self.k):\n",
    "            data = cv_k_fold(self.k, i, X,y)\n",
    "            self.train(*data)\n",
    "            self.train_ls_sum += self.train_ls[-1]\n",
    "            self.train_ls_sum += self.test_ls[-1]\n",
    "            if i == 0:\n",
    "                acc_plot(self.n_Iteration, self.train_ls, self.test_ls)\n",
    "            print(f'fold{i+1}, training accuracy{float(self.train_ls[-1]):f},'\n",
    "                 f'validating accuracy{float(self.test_ls[-1]):f}')\n",
    "    ## one_hot\n",
    "    def one_hot(self,y):\n",
    "        one_hot_Y = np.zeros((y.size, self.num_outputs))\n",
    "        one_hot_Y[np.arange(y.size),y] = 1\n",
    "        return one_hot_Y\n",
    "\n",
    "#other functions        \n",
    "## activation functions\n",
    "def Relu(X):\n",
    "    a = np.zeros_like(X)\n",
    "    return np.maximum(X,a)\n",
    "\n",
    "def Tahn(X):\n",
    "    return np.tanh(X)\n",
    "\n",
    "def Sigmoid(X):\n",
    "    return 1/(1+np.exp(-X))\n",
    "\n",
    "def Softmax(X):\n",
    "    X_exp = np.exp(X)\n",
    "    return (X_exp/(np.sum(X_exp,1,keepdims=True)))\n",
    "\n",
    "## derivative of activation functions\n",
    "def d_Relu(x):\n",
    "    return np.where(x >= 0, 1, 0)\n",
    "## cross entropy\n",
    "def crossEntropyLoss_2(one_hot_Y,y_hat):\n",
    "    return (-(one_hot_Y*np.log(y_hat))).sum(1).mean()\n",
    "## get prediction and accuracy\n",
    "def get_pred(A1):\n",
    "    return(np.argmax(A1,1))\n",
    "def get_accuracy(pred,y):\n",
    "    return np.sum(pred == y)/y.size\n",
    "## data_iteration\n",
    "def data_iteration(batchSize, X, y):\n",
    "    n = len(y)\n",
    "    index = list(range(n))\n",
    "    np.random.shuffle(index)\n",
    "    for i in range(0, n, batchSize):\n",
    "        batch_index = index[i:min(n, i+batchSize)]\n",
    "        yield X[batch_index], y[batch_index]\n",
    "## cv K fold\n",
    "def cv_k_fold(k,i,X,y):\n",
    "    assert k>1\n",
    "    foldSize = X.shape[0]//k\n",
    "    X_Train, y_Train = None, None\n",
    "    for m in range(k):\n",
    "        idx = slice(m * foldSize, (m+1)*foldSize)\n",
    "        X_p, y_p = X[idx,:],y[idx]\n",
    "        if m == i:\n",
    "            X_v, y_v = X_p, y_p\n",
    "        elif X_Train is None:\n",
    "            X_Train, y_Train = X_p, y_p\n",
    "        else:\n",
    "            X_Train = np.concatenate((X_Train,X_p), 0)\n",
    "            y_Train = np.concatenate((y_Train,y_p), 0)\n",
    "    return X_Train, y_Train, X_v, y_v\n",
    "\n",
    "def acc_plot(nIteration, list1, list2):\n",
    "    plt.plot(list(range(1,nIteration+1)), list1,label='train', linestyle='-')\n",
    "    plt.plot(list(range(1,nIteration+1)), list2, label='valid', linestyle='--')\n",
    "    plt.xlabel('epoch')\n",
    "    plt.ylabel('accuracy')\n",
    "    plt.legend()\n",
    "    # show the image\n",
    "    plt.show()"
   ]
  },
  {
   "cell_type": "code",
   "execution_count": 3,
   "id": "c98dd941",
   "metadata": {},
   "outputs": [],
   "source": [
    "data_tr = pd.read_csv(\"data/train.csv\")\n",
    "data_te = pd.read_csv(\"data/test.csv\")"
   ]
  },
  {
   "cell_type": "code",
   "execution_count": 4,
   "id": "beb8d75e",
   "metadata": {},
   "outputs": [
    {
     "data": {
      "text/html": [
       "<div>\n",
       "<style scoped>\n",
       "    .dataframe tbody tr th:only-of-type {\n",
       "        vertical-align: middle;\n",
       "    }\n",
       "\n",
       "    .dataframe tbody tr th {\n",
       "        vertical-align: top;\n",
       "    }\n",
       "\n",
       "    .dataframe thead th {\n",
       "        text-align: right;\n",
       "    }\n",
       "</style>\n",
       "<table border=\"1\" class=\"dataframe\">\n",
       "  <thead>\n",
       "    <tr style=\"text-align: right;\">\n",
       "      <th></th>\n",
       "      <th>label</th>\n",
       "      <th>pixel0</th>\n",
       "      <th>pixel1</th>\n",
       "      <th>pixel2</th>\n",
       "      <th>pixel3</th>\n",
       "      <th>pixel4</th>\n",
       "      <th>pixel5</th>\n",
       "      <th>pixel6</th>\n",
       "      <th>pixel7</th>\n",
       "      <th>pixel8</th>\n",
       "      <th>...</th>\n",
       "      <th>pixel774</th>\n",
       "      <th>pixel775</th>\n",
       "      <th>pixel776</th>\n",
       "      <th>pixel777</th>\n",
       "      <th>pixel778</th>\n",
       "      <th>pixel779</th>\n",
       "      <th>pixel780</th>\n",
       "      <th>pixel781</th>\n",
       "      <th>pixel782</th>\n",
       "      <th>pixel783</th>\n",
       "    </tr>\n",
       "  </thead>\n",
       "  <tbody>\n",
       "    <tr>\n",
       "      <th>0</th>\n",
       "      <td>1</td>\n",
       "      <td>0</td>\n",
       "      <td>0</td>\n",
       "      <td>0</td>\n",
       "      <td>0</td>\n",
       "      <td>0</td>\n",
       "      <td>0</td>\n",
       "      <td>0</td>\n",
       "      <td>0</td>\n",
       "      <td>0</td>\n",
       "      <td>...</td>\n",
       "      <td>0</td>\n",
       "      <td>0</td>\n",
       "      <td>0</td>\n",
       "      <td>0</td>\n",
       "      <td>0</td>\n",
       "      <td>0</td>\n",
       "      <td>0</td>\n",
       "      <td>0</td>\n",
       "      <td>0</td>\n",
       "      <td>0</td>\n",
       "    </tr>\n",
       "    <tr>\n",
       "      <th>1</th>\n",
       "      <td>0</td>\n",
       "      <td>0</td>\n",
       "      <td>0</td>\n",
       "      <td>0</td>\n",
       "      <td>0</td>\n",
       "      <td>0</td>\n",
       "      <td>0</td>\n",
       "      <td>0</td>\n",
       "      <td>0</td>\n",
       "      <td>0</td>\n",
       "      <td>...</td>\n",
       "      <td>0</td>\n",
       "      <td>0</td>\n",
       "      <td>0</td>\n",
       "      <td>0</td>\n",
       "      <td>0</td>\n",
       "      <td>0</td>\n",
       "      <td>0</td>\n",
       "      <td>0</td>\n",
       "      <td>0</td>\n",
       "      <td>0</td>\n",
       "    </tr>\n",
       "    <tr>\n",
       "      <th>2</th>\n",
       "      <td>1</td>\n",
       "      <td>0</td>\n",
       "      <td>0</td>\n",
       "      <td>0</td>\n",
       "      <td>0</td>\n",
       "      <td>0</td>\n",
       "      <td>0</td>\n",
       "      <td>0</td>\n",
       "      <td>0</td>\n",
       "      <td>0</td>\n",
       "      <td>...</td>\n",
       "      <td>0</td>\n",
       "      <td>0</td>\n",
       "      <td>0</td>\n",
       "      <td>0</td>\n",
       "      <td>0</td>\n",
       "      <td>0</td>\n",
       "      <td>0</td>\n",
       "      <td>0</td>\n",
       "      <td>0</td>\n",
       "      <td>0</td>\n",
       "    </tr>\n",
       "    <tr>\n",
       "      <th>3</th>\n",
       "      <td>4</td>\n",
       "      <td>0</td>\n",
       "      <td>0</td>\n",
       "      <td>0</td>\n",
       "      <td>0</td>\n",
       "      <td>0</td>\n",
       "      <td>0</td>\n",
       "      <td>0</td>\n",
       "      <td>0</td>\n",
       "      <td>0</td>\n",
       "      <td>...</td>\n",
       "      <td>0</td>\n",
       "      <td>0</td>\n",
       "      <td>0</td>\n",
       "      <td>0</td>\n",
       "      <td>0</td>\n",
       "      <td>0</td>\n",
       "      <td>0</td>\n",
       "      <td>0</td>\n",
       "      <td>0</td>\n",
       "      <td>0</td>\n",
       "    </tr>\n",
       "    <tr>\n",
       "      <th>4</th>\n",
       "      <td>0</td>\n",
       "      <td>0</td>\n",
       "      <td>0</td>\n",
       "      <td>0</td>\n",
       "      <td>0</td>\n",
       "      <td>0</td>\n",
       "      <td>0</td>\n",
       "      <td>0</td>\n",
       "      <td>0</td>\n",
       "      <td>0</td>\n",
       "      <td>...</td>\n",
       "      <td>0</td>\n",
       "      <td>0</td>\n",
       "      <td>0</td>\n",
       "      <td>0</td>\n",
       "      <td>0</td>\n",
       "      <td>0</td>\n",
       "      <td>0</td>\n",
       "      <td>0</td>\n",
       "      <td>0</td>\n",
       "      <td>0</td>\n",
       "    </tr>\n",
       "  </tbody>\n",
       "</table>\n",
       "<p>5 rows × 785 columns</p>\n",
       "</div>"
      ],
      "text/plain": [
       "   label  pixel0  pixel1  pixel2  pixel3  pixel4  pixel5  pixel6  pixel7  \\\n",
       "0      1       0       0       0       0       0       0       0       0   \n",
       "1      0       0       0       0       0       0       0       0       0   \n",
       "2      1       0       0       0       0       0       0       0       0   \n",
       "3      4       0       0       0       0       0       0       0       0   \n",
       "4      0       0       0       0       0       0       0       0       0   \n",
       "\n",
       "   pixel8  ...  pixel774  pixel775  pixel776  pixel777  pixel778  pixel779  \\\n",
       "0       0  ...         0         0         0         0         0         0   \n",
       "1       0  ...         0         0         0         0         0         0   \n",
       "2       0  ...         0         0         0         0         0         0   \n",
       "3       0  ...         0         0         0         0         0         0   \n",
       "4       0  ...         0         0         0         0         0         0   \n",
       "\n",
       "   pixel780  pixel781  pixel782  pixel783  \n",
       "0         0         0         0         0  \n",
       "1         0         0         0         0  \n",
       "2         0         0         0         0  \n",
       "3         0         0         0         0  \n",
       "4         0         0         0         0  \n",
       "\n",
       "[5 rows x 785 columns]"
      ]
     },
     "execution_count": 4,
     "metadata": {},
     "output_type": "execute_result"
    }
   ],
   "source": [
    "data_tr.head()"
   ]
  },
  {
   "cell_type": "code",
   "execution_count": 5,
   "id": "31df2ea0",
   "metadata": {},
   "outputs": [
    {
     "data": {
      "text/plain": [
       "((42000, 785), (28000, 784))"
      ]
     },
     "execution_count": 5,
     "metadata": {},
     "output_type": "execute_result"
    }
   ],
   "source": [
    "data_tr.shape, data_te.shape"
   ]
  },
  {
   "cell_type": "code",
   "execution_count": 6,
   "id": "9eb8b8e5",
   "metadata": {},
   "outputs": [],
   "source": [
    "X_train, y_train = np.array(data_tr)[:,1:], np.array(data_tr)[:,0]\n",
    "X_test = np.array(data_te)"
   ]
  },
  {
   "cell_type": "code",
   "execution_count": 7,
   "id": "2d0eb58a",
   "metadata": {},
   "outputs": [],
   "source": [
    "MLP = multiLayterPercepton(num_outputs=10, num_hiddens=64, \n",
    "                           batch_size = 256, Learning_Rate = 0.0003,n_Iteration=240)"
   ]
  },
  {
   "cell_type": "code",
   "execution_count": 8,
   "id": "34655a87",
   "metadata": {},
   "outputs": [
    {
     "data": {
      "image/png": "[encoded data removed]",
      "text/plain": [
       "<Figure size 640x480 with 1 Axes>"
      ]
     },
     "metadata": {},
     "output_type": "display_data"
    },
    {
     "name": "stdout",
     "output_type": "stream",
     "text": [
      "fold1, training accuracy0.867725,validating accuracy0.872619\n",
      "fold2, training accuracy0.872302,validating accuracy0.869286\n",
      "fold3, training accuracy0.871614,validating accuracy0.873571\n",
      "fold4, training accuracy0.866455,validating accuracy0.863571\n",
      "fold5, training accuracy0.875159,validating accuracy0.878810\n",
      "fold6, training accuracy0.873042,validating accuracy0.866190\n",
      "fold7, training accuracy0.876032,validating accuracy0.871190\n",
      "fold8, training accuracy0.879048,validating accuracy0.867857\n",
      "fold9, training accuracy0.873545,validating accuracy0.883095\n",
      "fold10, training accuracy0.877037,validating accuracy0.876905\n"
     ]
    }
   ],
   "source": [
    "MLP.k_fold_train(X_train, y_train)"
   ]
  },
  {
   "cell_type": "code",
   "execution_count": 15,
   "id": "b385e5fa",
   "metadata": {},
   "outputs": [],
   "source": [
    "MLP.net(X_test)\n",
    "preds = get_pred(MLP.A2)"
   ]
  },
  {
   "cell_type": "code",
   "execution_count": 16,
   "id": "360f0152",
   "metadata": {},
   "outputs": [],
   "source": [
    "data_te['Label'] = pd.Series(preds.reshape(1,-1)[0])\n",
    "data_te['ImageId'] = pd.Series(np.array(np.arange(1, data_te.shape[0] + 1, 1).reshape(1,-1)[0]))\n",
    "submission = pd.concat([data_te['ImageId'], data_te['Label']], axis = 1)\n",
    "submission.to_csv('submission.csv', index=False)"
   ]
  },
  {
   "cell_type": "code",
   "execution_count": 71,
   "id": "f12af145",
   "metadata": {},
   "outputs": [],
   "source": [
    "#scratch\n",
    "def init_parameters():\n",
    "    num_features, num_outputs = X_train.shape[1],10\n",
    "    hiddenLayers = 128\n",
    "    W1 = np.random.randn(num_features, hiddenLayers)*0.01\n",
    "    b1 = np.random.randn(hiddenLayers)\n",
    "\n",
    "    W2 = np.random.randn(hiddenLayers,num_outputs)*0.01\n",
    "    b2 = np.random.randn(num_outputs)\n",
    "    return W1,W2,b1,b2"
   ]
  },
  {
   "cell_type": "code",
   "execution_count": 72,
   "id": "9cc89701",
   "metadata": {},
   "outputs": [],
   "source": [
    "def Relu(X):\n",
    "    a = np.zeros_like(X)\n",
    "    return np.maximum(X,a)\n",
    "\n",
    "def Tahn(X):\n",
    "    return np.tanh(X)\n",
    "\n",
    "def Sigmoid(X):\n",
    "    return 1/(1+np.exp(-X))\n",
    "\n",
    "def Softmax(X):\n",
    "    X_exp = np.exp(X)\n",
    "    return (X_exp/(np.sum(X_exp,1,keepdims=True)))"
   ]
  },
  {
   "cell_type": "code",
   "execution_count": 73,
   "id": "62ac7fef",
   "metadata": {},
   "outputs": [],
   "source": [
    "def d_Relu(x):\n",
    "    return np.where(x >= 0, 1, 0)"
   ]
  },
  {
   "cell_type": "code",
   "execution_count": 74,
   "id": "20afe66e",
   "metadata": {},
   "outputs": [
    {
     "data": {
      "text/plain": [
       "((784, 128), (128,), (128, 10), (10,))"
      ]
     },
     "execution_count": 74,
     "metadata": {},
     "output_type": "execute_result"
    }
   ],
   "source": [
    "W1,W2,b1,b2 = init_parameters()\n",
    "W1.shape,b1.shape,W2.shape,b2.shape"
   ]
  },
  {
   "cell_type": "code",
   "execution_count": 75,
   "id": "b91c0d09",
   "metadata": {},
   "outputs": [],
   "source": [
    "def net(W1,W2,b1,b2,X):\n",
    "    Z1 = X@W1+b1\n",
    "    A1 = Relu(Z1)\n",
    "    Z2 = A1@W2+b2\n",
    "    A2 = Softmax(Z2)\n",
    "    return (Z1, A1, A2)"
   ]
  },
  {
   "cell_type": "code",
   "execution_count": 76,
   "id": "8219caff",
   "metadata": {},
   "outputs": [],
   "source": [
    "def one_hot(y):\n",
    "    one_hot_Y = np.zeros((y.size, y.max()+1))\n",
    "    one_hot_Y[np.arange(y.size),y] = 1\n",
    "    return one_hot_Y"
   ]
  },
  {
   "cell_type": "code",
   "execution_count": 77,
   "id": "89d18a44",
   "metadata": {},
   "outputs": [],
   "source": [
    "def data_iteration(batchSize, X, y):\n",
    "    n = len(y)\n",
    "    index = list(range(n))\n",
    "    np.random.shuffle(index)\n",
    "    for i in range(0, n, batchSize):\n",
    "        batch_index = index[i:min(n, i+batchSize)]\n",
    "        yield X[batch_index], y[batch_index]"
   ]
  },
  {
   "cell_type": "code",
   "execution_count": 78,
   "id": "02a5971c",
   "metadata": {},
   "outputs": [],
   "source": [
    "def crossEntropyLoss_2(one_hot_Y,y_hat):\n",
    "    return (-(one_hot_Y*np.log(y_hat))).sum(1).mean()"
   ]
  },
  {
   "cell_type": "code",
   "execution_count": 79,
   "id": "a757a4e1",
   "metadata": {},
   "outputs": [],
   "source": [
    "def get_pred(A1):\n",
    "    return(np.argmax(A1,1))\n",
    "def get_accuracy(pred,y):\n",
    "    print(pred,y)\n",
    "    return np.sum(pred == y)/y.size"
   ]
  },
  {
   "cell_type": "code",
   "execution_count": 80,
   "id": "1bd38f3f",
   "metadata": {},
   "outputs": [],
   "source": [
    "def backPropagation(W2, W1, b1, b2, A1, A2, Z1, X, y, lr):\n",
    "    N = y.size\n",
    "    one_hot_Y = one_hot(y)\n",
    "    dZ2 = A2 - one_hot_Y\n",
    "    dW2 = np.dot(A1.T, dZ2)/N\n",
    "    db2 = dZ2.mean(0)\n",
    "    dZ1 = np.dot(dZ2, W2.T)*d_Relu(Z1)\n",
    "    dW1 = np.dot(X.T, dZ1)/N\n",
    "    db1 = dZ1.mean(0)\n",
    "    # update parameters\n",
    "    W2 = W2 - lr * dW2\n",
    "    b2 = b2- lr * db2\n",
    "    W1 = W1 - lr * dW1\n",
    "    b1 = b1 - lr * db1\n",
    "    return W2, b2, W1, b1"
   ]
  },
  {
   "cell_type": "code",
   "execution_count": 81,
   "id": "d2d10895",
   "metadata": {},
   "outputs": [],
   "source": [
    "def train(X,y,lr, nIteration):\n",
    "    W1,W2, b1,b2 = init_parameters()\n",
    "    one_hot_Y = one_hot(y)\n",
    "    for i in range(nIteration):\n",
    "        Z1, A1, A2 = net(W1,W2,b1,b2,X)\n",
    "        W2, b2, W1, b1 = backPropagation(W2, W1, b1, b2, A1, A2, Z1, X, y, lr)\n",
    "        if (i%20==0):\n",
    "            print(\"n_Iteration:\",i)\n",
    "            print(\"Accuracy:\",get_accuracy(get_pred(A2),y))\n",
    "            print(\"crossEntropy\", crossEntropyLoss_2(one_hot_Y,A2))\n",
    "    return W1, b1, W2, b2"
   ]
  },
  {
   "cell_type": "code",
   "execution_count": 82,
   "id": "27a77f77",
   "metadata": {},
   "outputs": [
    {
     "name": "stdout",
     "output_type": "stream",
     "text": [
      "n_Iteration: 0\n",
      "[0 4 0 ... 4 0 1] [1 0 1 ... 7 6 9]\n",
      "Accuracy: 0.053976190476190476\n",
      "crossEntropy 3.682227624687645\n",
      "n_Iteration: 20\n",
      "[2 5 1 ... 4 6 1] [1 0 1 ... 7 6 9]\n",
      "Accuracy: 0.35219047619047616\n",
      "crossEntropy 1.8897318200400044\n"
     ]
    },
    {
     "ename": "KeyboardInterrupt",
     "evalue": "",
     "output_type": "error",
     "traceback": [
      "\u001b[1;31m---------------------------------------------------------------------------\u001b[0m",
      "\u001b[1;31mKeyboardInterrupt\u001b[0m                         Traceback (most recent call last)",
      "Cell \u001b[1;32mIn[82], line 1\u001b[0m\n\u001b[1;32m----> 1\u001b[0m \u001b[43mtrain\u001b[49m\u001b[43m(\u001b[49m\u001b[43mX_train\u001b[49m\u001b[43m,\u001b[49m\u001b[43my_train\u001b[49m\u001b[43m,\u001b[49m\u001b[38;5;241;43m0.0001\u001b[39;49m\u001b[43m,\u001b[49m\u001b[43m \u001b[49m\u001b[38;5;241;43m100\u001b[39;49m\u001b[43m)\u001b[49m\n",
      "Cell \u001b[1;32mIn[81], line 5\u001b[0m, in \u001b[0;36mtrain\u001b[1;34m(X, y, lr, nIteration)\u001b[0m\n\u001b[0;32m      3\u001b[0m one_hot_Y \u001b[38;5;241m=\u001b[39m one_hot(y)\n\u001b[0;32m      4\u001b[0m \u001b[38;5;28;01mfor\u001b[39;00m i \u001b[38;5;129;01min\u001b[39;00m \u001b[38;5;28mrange\u001b[39m(nIteration):\n\u001b[1;32m----> 5\u001b[0m     Z1, A1, A2 \u001b[38;5;241m=\u001b[39m \u001b[43mnet\u001b[49m\u001b[43m(\u001b[49m\u001b[43mW1\u001b[49m\u001b[43m,\u001b[49m\u001b[43mW2\u001b[49m\u001b[43m,\u001b[49m\u001b[43mb1\u001b[49m\u001b[43m,\u001b[49m\u001b[43mb2\u001b[49m\u001b[43m,\u001b[49m\u001b[43mX\u001b[49m\u001b[43m)\u001b[49m\n\u001b[0;32m      6\u001b[0m     W2, b2, W1, b1 \u001b[38;5;241m=\u001b[39m backPropagation(W2, W1, b1, b2, A1, A2, Z1, X, y, lr)\n\u001b[0;32m      7\u001b[0m     \u001b[38;5;28;01mif\u001b[39;00m (i\u001b[38;5;241m%\u001b[39m\u001b[38;5;241m20\u001b[39m\u001b[38;5;241m==\u001b[39m\u001b[38;5;241m0\u001b[39m):\n",
      "Cell \u001b[1;32mIn[75], line 2\u001b[0m, in \u001b[0;36mnet\u001b[1;34m(W1, W2, b1, b2, X)\u001b[0m\n\u001b[0;32m      1\u001b[0m \u001b[38;5;28;01mdef\u001b[39;00m \u001b[38;5;21mnet\u001b[39m(W1,W2,b1,b2,X):\n\u001b[1;32m----> 2\u001b[0m     Z1 \u001b[38;5;241m=\u001b[39m \u001b[43mX\u001b[49m\u001b[38;5;129;43m@W1\u001b[39;49m\u001b[38;5;241m+\u001b[39mb1\n\u001b[0;32m      3\u001b[0m     A1 \u001b[38;5;241m=\u001b[39m Relu(Z1)\n\u001b[0;32m      4\u001b[0m     Z2 \u001b[38;5;241m=\u001b[39m A1\u001b[38;5;129m@W2\u001b[39m\u001b[38;5;241m+\u001b[39mb2\n",
      "\u001b[1;31mKeyboardInterrupt\u001b[0m: "
     ]
    }
   ],
   "source": [
    "#train(X_train,y_train,0.0001, 100)"
   ]
  }
 ],
 "metadata": {
  "kernelspec": {
   "display_name": "Python 3 (ipykernel)",
   "language": "python",
   "name": "python3"
  },
  "language_info": {
   "codemirror_mode": {
    "name": "ipython",
    "version": 3
   },
   "file_extension": ".py",
   "mimetype": "text/x-python",
   "name": "python",
   "nbconvert_exporter": "python",
   "pygments_lexer": "ipython3",
   "version": "3.9.18"
  }
 },
 "nbformat": 4,
 "nbformat_minor": 5
}
