{
 "cells": [
  {
   "cell_type": "code",
   "execution_count": 1,
   "id": "e7c76c7a",
   "metadata": {},
   "outputs": [],
   "source": [
    "import numpy as np"
   ]
  },
  {
   "cell_type": "code",
   "execution_count": 12,
   "id": "cb56faa2",
   "metadata": {},
   "outputs": [],
   "source": [
    "def data_iteration(batchSize, X, y):\n",
    "    n = len(y)\n",
    "    index = list(range(n))\n",
    "    np.random.shuffle(index)\n",
    "    for i in range(0, n, batchSize):\n",
    "        batch_index = index[i:min(n, i+batchSize)]\n",
    "        yield X[batch_index], y[batch_index]"
   ]
  },
  {
   "cell_type": "code",
   "execution_count": 19,
   "id": "2c44ebc5",
   "metadata": {},
   "outputs": [
    {
     "name": "stdout",
     "output_type": "stream",
     "text": [
      "batch i\n",
      "[[1 2 3]\n",
      " [3 4 5]] \n",
      " [2 4]\n",
      "--------------\n",
      "batch i\n",
      "[[4 5 6]\n",
      " [5 6 7]] \n",
      " [5 6]\n",
      "--------------\n",
      "batch i\n",
      "[[2 3 4]] \n",
      " [3]\n",
      "--------------\n"
     ]
    }
   ],
   "source": [
    "X = np.array([[1,2,3],\n",
    "             [2,3,4],\n",
    "             [3,4,5],\n",
    "             [4,5,6],\n",
    "             [5,6,7]])\n",
    "y = np.array([2,3,4,5,6])\n",
    "\n",
    "for a,b in data_iteration(2,X,y):\n",
    "    print('batch i')\n",
    "    print(a,'\\n',b)\n",
    "    print('--------------')"
   ]
  }
 ],
 "metadata": {
  "kernelspec": {
   "display_name": "Python 3 (ipykernel)",
   "language": "python",
   "name": "python3"
  },
  "language_info": {
   "codemirror_mode": {
    "name": "ipython",
    "version": 3
   },
   "file_extension": ".py",
   "mimetype": "text/x-python",
   "name": "python",
   "nbconvert_exporter": "python",
   "pygments_lexer": "ipython3",
   "version": "3.9.18"
  }
 },
 "nbformat": 4,
 "nbformat_minor": 5
}
