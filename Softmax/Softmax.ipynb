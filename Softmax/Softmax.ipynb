{
 "cells": [
  {
   "cell_type": "code",
   "execution_count": 1,
   "id": "d23b72ec",
   "metadata": {},
   "outputs": [],
   "source": [
    "import numpy as np\n",
    "import pandas as pd #only used for read data\n",
    "import matplotlib.pyplot as plt #only used for plots"
   ]
  },
  {
   "cell_type": "code",
   "execution_count": 46,
   "id": "4d978ddf",
   "metadata": {},
   "outputs": [],
   "source": [
    "# Softmax\n",
    "class softmaxClassifier:\n",
    "    # main functions\n",
    "    def __init__(self,num_outputs,batchSize = 32,\n",
    "                 Learning_Rate = 0.0001,n_Iteration = 200):\n",
    "        self.Learning_Rate = Learning_Rate\n",
    "        self.n_Iteration = n_Iteration\n",
    "        self.num_outputs = num_outputs\n",
    "        self.batchSize = batchSize\n",
    "        \n",
    "    def init_parameters(self, X):\n",
    "        self.num_features, self.num_observation = X.shape[1], X.shape[0]\n",
    "        self.W1 = np.random.randn(self.num_features,self.num_outputs)*0.01\n",
    "        self.b1 = np.random.randn(1,self.num_outputs)\n",
    "    \n",
    "    def net(self,X):\n",
    "        Z1 = X@self.W1+self.b1\n",
    "        self.A1 = self.Softmax(Z1)\n",
    "    \n",
    "    def backPropagation(self,X,y):\n",
    "        dZ = self.A1 - self.one_hot(y)\n",
    "        dW = np.dot(X.T,dZ)/self.num_observation\n",
    "        db = dZ.mean(0)\n",
    "        # update parameters\n",
    "        self.W1 = self.W1 - self.Learning_Rate*dW\n",
    "        self.b1 = self.b1 - self.Learning_Rate*db\n",
    "        \n",
    "    def train(self, X, y):\n",
    "        self.init_parameters(X)\n",
    "        one_hot_Y = self.one_hot(y)\n",
    "        self.accuracy = []\n",
    "        self.crossEntropyLoss = []\n",
    "        for i in range(self.n_Iteration):\n",
    "            for X_b, y_b in self.data_iteration(X,y):\n",
    "                self.net(X_b)\n",
    "                self.backPropagation(X_b,y_b)\n",
    "            if (i%20==0):\n",
    "                self.net(X)\n",
    "                (self.accuracy).append(self.get_accuracy(self.get_pred(self.A1),y))\n",
    "                (self.crossEntropyLoss).append(self.crossEntropyLoss_2(self.one_hot_Y,self.A1))\n",
    "                print(\"n_Iteration:\",i)\n",
    "                print(\"Accuracy:\",self.accuracy[-1])\n",
    "                print(\"crossEntropy\", self.crossEntropyLoss[-1])\n",
    "                #animator(i//20,self.accuracy,self.crossEntropyLoss)\n",
    "        plt.show()\n",
    "        \n",
    "    def data_iteration(self, X, y):\n",
    "        n = len(y)\n",
    "        index = list(range(n))\n",
    "        np.random.shuffle(index)\n",
    "        for i in range(0, n, self.batchSize):\n",
    "            batch_index = index[i:min(n, i+self.batchSize)]\n",
    "            yield X[batch_index], y[batch_index]\n",
    "    \n",
    "    def test(self, X, y):\n",
    "        self.net(X)\n",
    "        one_hot_Y = self.one_hot(y)\n",
    "        print(\"Accuracy:\",self.get_accuracy(self.get_pred(self.A1),y))\n",
    "        print(\"crossEntropy\", self.crossEntropyLoss_2(one_hot_Y,self.A1))\n",
    "    \n",
    "    def predict(self, X):\n",
    "        self.net(X)\n",
    "        self.pred = self.get_pred(self.A1)\n",
    "    \n",
    "    # auxiliary code\n",
    "    def Softmax(self,X):\n",
    "        X_exp = np.exp(X)\n",
    "        return (X_exp/(np.sum(X_exp,1,keepdims=True)))\n",
    "    \n",
    "    def one_hot(self,y):\n",
    "        one_hot_Y = np.zeros((y.size, self.num_outputs))\n",
    "        one_hot_Y[np.arange(y.size),y] = 1\n",
    "        return one_hot_Y\n",
    "    \n",
    "    def crossEntropyLoss_2(self,one_hot_Y,y_hat):\n",
    "        return (-(one_hot_Y*np.log(y_hat))).sum(1).mean()\n",
    "    \n",
    "    def get_pred(self,A1):\n",
    "        return(np.argmax(A1,1))\n",
    "    \n",
    "    def get_accuracy(self,pred,y):\n",
    "        print(pred,y)\n",
    "        return np.sum(pred == y)/y.size"
   ]
  },
  {
   "cell_type": "code",
   "execution_count": 27,
   "id": "51d258ea",
   "metadata": {},
   "outputs": [],
   "source": [
    "len(X)\n",
    "def data_iteration(batchSize, X, y):\n",
    "    n = len(y)\n",
    "    index = list(range(n))\n",
    "    np.random.shuffle(index)\n",
    "    for i in range(0, n, batchSize):\n",
    "        batch_index = index[i:min(n, i+batchSize)]\n",
    "        yield X[batch_index], y[batch_index]"
   ]
  },
  {
   "cell_type": "code",
   "execution_count": 3,
   "id": "8f3d903b",
   "metadata": {},
   "outputs": [],
   "source": [
    "def animator(index, metrics1,metrics2):\n",
    "    fig, ax = plt.subplots()\n",
    "    \n",
    "    iterations=[j for j in range(1, index+2)]\n",
    "    ax.clear()\n",
    "\n",
    "    ax.plot(iterations, metrics1, label='Accuracy')\n",
    "    ax.plot(iterations, metrics2, label='CrossEntropy')\n",
    "    ax.set_xlabel(\"Iterations\")\n",
    "    ax.set_ylabel(\"Metrics\")\n",
    "    ax.legend()  \n",
    "\n",
    "    # update\n",
    "    plt.pause(0.1)  \n",
    "    plt.draw()\n",
    "\n",
    "    "
   ]
  },
  {
   "cell_type": "code",
   "execution_count": 4,
   "id": "2e04fb99",
   "metadata": {},
   "outputs": [
    {
     "data": {
      "text/html": [
       "<div>\n",
       "<style scoped>\n",
       "    .dataframe tbody tr th:only-of-type {\n",
       "        vertical-align: middle;\n",
       "    }\n",
       "\n",
       "    .dataframe tbody tr th {\n",
       "        vertical-align: top;\n",
       "    }\n",
       "\n",
       "    .dataframe thead th {\n",
       "        text-align: right;\n",
       "    }\n",
       "</style>\n",
       "<table border=\"1\" class=\"dataframe\">\n",
       "  <thead>\n",
       "    <tr style=\"text-align: right;\">\n",
       "      <th></th>\n",
       "      <th>label</th>\n",
       "      <th>pixel0</th>\n",
       "      <th>pixel1</th>\n",
       "      <th>pixel2</th>\n",
       "      <th>pixel3</th>\n",
       "      <th>pixel4</th>\n",
       "      <th>pixel5</th>\n",
       "      <th>pixel6</th>\n",
       "      <th>pixel7</th>\n",
       "      <th>pixel8</th>\n",
       "      <th>...</th>\n",
       "      <th>pixel774</th>\n",
       "      <th>pixel775</th>\n",
       "      <th>pixel776</th>\n",
       "      <th>pixel777</th>\n",
       "      <th>pixel778</th>\n",
       "      <th>pixel779</th>\n",
       "      <th>pixel780</th>\n",
       "      <th>pixel781</th>\n",
       "      <th>pixel782</th>\n",
       "      <th>pixel783</th>\n",
       "    </tr>\n",
       "  </thead>\n",
       "  <tbody>\n",
       "    <tr>\n",
       "      <th>0</th>\n",
       "      <td>1</td>\n",
       "      <td>0</td>\n",
       "      <td>0</td>\n",
       "      <td>0</td>\n",
       "      <td>0</td>\n",
       "      <td>0</td>\n",
       "      <td>0</td>\n",
       "      <td>0</td>\n",
       "      <td>0</td>\n",
       "      <td>0</td>\n",
       "      <td>...</td>\n",
       "      <td>0</td>\n",
       "      <td>0</td>\n",
       "      <td>0</td>\n",
       "      <td>0</td>\n",
       "      <td>0</td>\n",
       "      <td>0</td>\n",
       "      <td>0</td>\n",
       "      <td>0</td>\n",
       "      <td>0</td>\n",
       "      <td>0</td>\n",
       "    </tr>\n",
       "    <tr>\n",
       "      <th>1</th>\n",
       "      <td>0</td>\n",
       "      <td>0</td>\n",
       "      <td>0</td>\n",
       "      <td>0</td>\n",
       "      <td>0</td>\n",
       "      <td>0</td>\n",
       "      <td>0</td>\n",
       "      <td>0</td>\n",
       "      <td>0</td>\n",
       "      <td>0</td>\n",
       "      <td>...</td>\n",
       "      <td>0</td>\n",
       "      <td>0</td>\n",
       "      <td>0</td>\n",
       "      <td>0</td>\n",
       "      <td>0</td>\n",
       "      <td>0</td>\n",
       "      <td>0</td>\n",
       "      <td>0</td>\n",
       "      <td>0</td>\n",
       "      <td>0</td>\n",
       "    </tr>\n",
       "    <tr>\n",
       "      <th>2</th>\n",
       "      <td>1</td>\n",
       "      <td>0</td>\n",
       "      <td>0</td>\n",
       "      <td>0</td>\n",
       "      <td>0</td>\n",
       "      <td>0</td>\n",
       "      <td>0</td>\n",
       "      <td>0</td>\n",
       "      <td>0</td>\n",
       "      <td>0</td>\n",
       "      <td>...</td>\n",
       "      <td>0</td>\n",
       "      <td>0</td>\n",
       "      <td>0</td>\n",
       "      <td>0</td>\n",
       "      <td>0</td>\n",
       "      <td>0</td>\n",
       "      <td>0</td>\n",
       "      <td>0</td>\n",
       "      <td>0</td>\n",
       "      <td>0</td>\n",
       "    </tr>\n",
       "    <tr>\n",
       "      <th>3</th>\n",
       "      <td>4</td>\n",
       "      <td>0</td>\n",
       "      <td>0</td>\n",
       "      <td>0</td>\n",
       "      <td>0</td>\n",
       "      <td>0</td>\n",
       "      <td>0</td>\n",
       "      <td>0</td>\n",
       "      <td>0</td>\n",
       "      <td>0</td>\n",
       "      <td>...</td>\n",
       "      <td>0</td>\n",
       "      <td>0</td>\n",
       "      <td>0</td>\n",
       "      <td>0</td>\n",
       "      <td>0</td>\n",
       "      <td>0</td>\n",
       "      <td>0</td>\n",
       "      <td>0</td>\n",
       "      <td>0</td>\n",
       "      <td>0</td>\n",
       "    </tr>\n",
       "    <tr>\n",
       "      <th>4</th>\n",
       "      <td>0</td>\n",
       "      <td>0</td>\n",
       "      <td>0</td>\n",
       "      <td>0</td>\n",
       "      <td>0</td>\n",
       "      <td>0</td>\n",
       "      <td>0</td>\n",
       "      <td>0</td>\n",
       "      <td>0</td>\n",
       "      <td>0</td>\n",
       "      <td>...</td>\n",
       "      <td>0</td>\n",
       "      <td>0</td>\n",
       "      <td>0</td>\n",
       "      <td>0</td>\n",
       "      <td>0</td>\n",
       "      <td>0</td>\n",
       "      <td>0</td>\n",
       "      <td>0</td>\n",
       "      <td>0</td>\n",
       "      <td>0</td>\n",
       "    </tr>\n",
       "  </tbody>\n",
       "</table>\n",
       "<p>5 rows × 785 columns</p>\n",
       "</div>"
      ],
      "text/plain": [
       "   label  pixel0  pixel1  pixel2  pixel3  pixel4  pixel5  pixel6  pixel7  \\\n",
       "0      1       0       0       0       0       0       0       0       0   \n",
       "1      0       0       0       0       0       0       0       0       0   \n",
       "2      1       0       0       0       0       0       0       0       0   \n",
       "3      4       0       0       0       0       0       0       0       0   \n",
       "4      0       0       0       0       0       0       0       0       0   \n",
       "\n",
       "   pixel8  ...  pixel774  pixel775  pixel776  pixel777  pixel778  pixel779  \\\n",
       "0       0  ...         0         0         0         0         0         0   \n",
       "1       0  ...         0         0         0         0         0         0   \n",
       "2       0  ...         0         0         0         0         0         0   \n",
       "3       0  ...         0         0         0         0         0         0   \n",
       "4       0  ...         0         0         0         0         0         0   \n",
       "\n",
       "   pixel780  pixel781  pixel782  pixel783  \n",
       "0         0         0         0         0  \n",
       "1         0         0         0         0  \n",
       "2         0         0         0         0  \n",
       "3         0         0         0         0  \n",
       "4         0         0         0         0  \n",
       "\n",
       "[5 rows x 785 columns]"
      ]
     },
     "execution_count": 4,
     "metadata": {},
     "output_type": "execute_result"
    }
   ],
   "source": [
    "data = pd.read_csv(\"data/train.csv\")\n",
    "data.head()"
   ]
  },
  {
   "cell_type": "code",
   "execution_count": 6,
   "id": "afa36350",
   "metadata": {},
   "outputs": [],
   "source": [
    "data = np.array(data)\n",
    "np.random.shuffle(data)\n",
    "X, y = data[:,1:],data[:,0]\n",
    "n, m = X.shape"
   ]
  },
  {
   "cell_type": "code",
   "execution_count": 7,
   "id": "78abd712",
   "metadata": {},
   "outputs": [],
   "source": [
    "X_Train, X_Test = X[0:int(np.ceil(0.7*len(y))),:],X[int(np.ceil(0.7*len(y))):,:]\n",
    "y_Train, y_Test = y[0:int(np.ceil(0.7*len(y)))],y[int(np.ceil(0.7*len(y))):]"
   ]
  },
  {
   "cell_type": "code",
   "execution_count": 47,
   "id": "f970593f",
   "metadata": {},
   "outputs": [],
   "source": [
    "SoM = softmaxClassifier(num_outputs=10)"
   ]
  },
  {
   "cell_type": "code",
   "execution_count": 48,
   "id": "9c04f383",
   "metadata": {
    "scrolled": false
   },
   "outputs": [
    {
     "name": "stdout",
     "output_type": "stream",
     "text": [
      "[9 7 5 ... 0 5 9] [7 0 4 ... 6 6 5]\n",
      "n_Iteration: 0\n",
      "Accuracy: 0.08877551020408163\n",
      "crossEntropy 25.40903157557804\n",
      "[9 0 4 ... 6 5 5] [7 0 4 ... 6 6 5]\n",
      "n_Iteration: 20\n",
      "Accuracy: 0.7259523809523809\n",
      "crossEntropy 3.212301415406835\n",
      "[9 0 4 ... 6 5 5] [7 0 4 ... 6 6 5]\n",
      "n_Iteration: 40\n",
      "Accuracy: 0.7920748299319728\n",
      "crossEntropy 2.2392623388005473\n",
      "[9 0 4 ... 6 0 5] [7 0 4 ... 6 6 5]\n",
      "n_Iteration: 60\n",
      "Accuracy: 0.8191496598639456\n",
      "crossEntropy 1.8481433929447553\n",
      "[9 0 4 ... 6 0 5] [7 0 4 ... 6 6 5]\n",
      "n_Iteration: 80\n",
      "Accuracy: 0.8349659863945578\n",
      "crossEntropy 1.6232611266932901\n",
      "[7 0 4 ... 6 0 5] [7 0 4 ... 6 6 5]\n",
      "n_Iteration: 100\n",
      "Accuracy: 0.8458163265306122\n",
      "crossEntropy 1.4702766025373373\n",
      "[7 0 4 ... 6 0 5] [7 0 4 ... 6 6 5]\n",
      "n_Iteration: 120\n",
      "Accuracy: 0.8527551020408163\n",
      "crossEntropy 1.3560138854459256\n",
      "[7 0 4 ... 6 0 5] [7 0 4 ... 6 6 5]\n",
      "n_Iteration: 140\n",
      "Accuracy: 0.8586054421768707\n",
      "crossEntropy 1.2656464018206761\n",
      "[7 0 4 ... 6 0 5] [7 0 4 ... 6 6 5]\n",
      "n_Iteration: 160\n",
      "Accuracy: 0.8626190476190476\n",
      "crossEntropy 1.1914387705493084\n",
      "[7 0 4 ... 6 0 5] [7 0 4 ... 6 6 5]\n",
      "n_Iteration: 180\n",
      "Accuracy: 0.866734693877551\n",
      "crossEntropy 1.1291596525407517\n"
     ]
    }
   ],
   "source": [
    "SoM.train(X_Train,y_Train)"
   ]
  },
  {
   "cell_type": "code",
   "execution_count": 49,
   "id": "2ea488c0",
   "metadata": {
    "scrolled": true
   },
   "outputs": [
    {
     "name": "stdout",
     "output_type": "stream",
     "text": [
      "[0 5 2 ... 6 8 4] [0 5 2 ... 6 8 4]\n",
      "Accuracy: 0.8612698412698413\n",
      "crossEntropy 1.21351177942318\n"
     ]
    }
   ],
   "source": [
    "SoM.test(X_Test,y_Test)"
   ]
  },
  {
   "cell_type": "code",
   "execution_count": 10,
   "id": "a1e02563",
   "metadata": {},
   "outputs": [
    {
     "data": {
      "text/plain": [
       "29400.0"
      ]
     },
     "execution_count": 10,
     "metadata": {},
     "output_type": "execute_result"
    }
   ],
   "source": [
    "np.ceil(0.7*len(y))"
   ]
  },
  {
   "cell_type": "code",
   "execution_count": 11,
   "id": "1d78207e",
   "metadata": {},
   "outputs": [],
   "source": [
    "#scratch\n",
    "def Relu(X):\n",
    "    a = np.zeros_like(X)\n",
    "    return np.maximum(X,a)\n",
    "\n",
    "def Tahn(X):\n",
    "    return np.tanh(X)\n",
    "\n",
    "def Sigmoid(X):\n",
    "    return 1/(1+np.exp(-X))\n",
    "\n",
    "def Softmax(X):\n",
    "    X_exp = np.exp(X)\n",
    "    return (X_exp/(np.sum(X_exp,1,keepdims=True)))\n",
    "    "
   ]
  },
  {
   "cell_type": "code",
   "execution_count": 12,
   "id": "6ac900c1",
   "metadata": {},
   "outputs": [
    {
     "data": {
      "text/plain": [
       "array([0.07078011, 0.05143383, 0.1987892 , ..., 0.04580855, 0.05020387,\n",
       "       0.04254311])"
      ]
     },
     "execution_count": 12,
     "metadata": {},
     "output_type": "execute_result"
    }
   ],
   "source": [
    "np.max(X,1).shape\n",
    "Softmax(X).max(1)"
   ]
  },
  {
   "cell_type": "code",
   "execution_count": 13,
   "id": "25f1a960",
   "metadata": {},
   "outputs": [],
   "source": [
    "# Initailize the parameters\n",
    "def init_parameters(X):\n",
    "    num_features, num_outputs = X.shape[1], 10\n",
    "    W1 = np.random.randn(num_features,num_outputs)*0.01\n",
    "    b1 = np.random.randn(1,num_outputs)\n",
    "    return W1,b1"
   ]
  },
  {
   "cell_type": "code",
   "execution_count": 14,
   "id": "afdb8f84",
   "metadata": {},
   "outputs": [],
   "source": [
    "def net(W1, b1,X):\n",
    "    Z1 = X@W1+b1\n",
    "    A1 = Softmax(Z1)\n",
    "    return(Z1, A1)"
   ]
  },
  {
   "cell_type": "code",
   "execution_count": 50,
   "id": "ebc2393d",
   "metadata": {},
   "outputs": [],
   "source": [
    "def one_hot(y):\n",
    "    one_hot_Y = np.zeros((y.size, y.max()+1))\n",
    "    one_hot_Y[np.arange(y.size),y] = 1\n",
    "    return one_hot_Y"
   ]
  },
  {
   "cell_type": "code",
   "execution_count": 51,
   "id": "0dc6a621",
   "metadata": {},
   "outputs": [],
   "source": [
    "def data_iteration(batchSize, X, y):\n",
    "    n = len(y)\n",
    "    index = list(range(n))\n",
    "    np.random.shuffle(index)\n",
    "    for i in range(0, n, batchSize):\n",
    "        batch_index = index[i:min(n, i+batchSize)]\n",
    "        yield X[batch_index], y[batch_index]"
   ]
  },
  {
   "cell_type": "code",
   "execution_count": 16,
   "id": "8a7dd853",
   "metadata": {},
   "outputs": [],
   "source": [
    "def crossEntropyLoss_2(one_hot_Y,y_hat):\n",
    "    return (-(one_hot_Y*np.log(y_hat))).sum(1).mean()\n",
    "\n",
    "def crossEntropyLoss(y,y_hat):\n",
    "    return(-np.mean(np.log(y_hat[list(range(len(y_hat))), y])))"
   ]
  },
  {
   "cell_type": "code",
   "execution_count": 18,
   "id": "bcf05d09",
   "metadata": {},
   "outputs": [],
   "source": [
    "def backPropagation(A1, W1, b1, lr, X,y):\n",
    "    n = len(y)\n",
    "    dZ = A1 - one_hot(y)\n",
    "    dW = np.dot(X.T,dZ)/n\n",
    "    db = dZ.mean(0)\n",
    "    # update parameters\n",
    "    W1 = W1 - lr*dW\n",
    "    b1 = b1 - lr*db\n",
    "    return W1, b1"
   ]
  },
  {
   "cell_type": "code",
   "execution_count": 20,
   "id": "013e86f1",
   "metadata": {},
   "outputs": [],
   "source": [
    "def get_pred(A1):\n",
    "    return(np.argmax(A1,1))\n",
    "def get_accuracy(pred,y):\n",
    "    print(pred,y)\n",
    "    return np.sum(pred == y)/y.size"
   ]
  },
  {
   "cell_type": "code",
   "execution_count": 21,
   "id": "e6b2b1f6",
   "metadata": {},
   "outputs": [],
   "source": [
    "def gradient_decent(X, Y, n_iterations, lr):\n",
    "    W1, b1 = init_parameters(X)\n",
    "    one_hot_Y = one_hot(Y)\n",
    "    for i in range(n_iterations):\n",
    "        Z1, A1 = net(W1, b1, X)\n",
    "        W1, b1 = backPropagation(A1, W1, b1,lr,X,Y)\n",
    "        if (i%20==0):\n",
    "            print(\"n_Iteration:\",i)\n",
    "            print(\"Accuracy:\",get_accuracy(get_pred(A1),Y))\n",
    "            print(\"crossEntropy\", crossEntropyLoss_2(one_hot_Y,A1))\n",
    "    return W1, b1"
   ]
  },
  {
   "cell_type": "code",
   "execution_count": 22,
   "id": "e49a83f4",
   "metadata": {},
   "outputs": [
    {
     "name": "stdout",
     "output_type": "stream",
     "text": [
      "n_Iteration: 0\n",
      "[2 2 2 ... 4 2 4] [4 0 1 ... 5 8 0]\n",
      "Accuracy: 0.1226530612244898\n",
      "crossEntropy 45.038692051837806\n",
      "n_Iteration: 20\n",
      "[9 0 1 ... 3 3 8] [4 0 1 ... 5 8 0]\n",
      "Accuracy: 0.7217346938775511\n",
      "crossEntropy 3.758094280437829\n",
      "n_Iteration: 40\n",
      "[9 0 1 ... 5 3 6] [4 0 1 ... 5 8 0]\n",
      "Accuracy: 0.8001020408163265\n",
      "crossEntropy 2.3441127981490157\n",
      "n_Iteration: 60\n",
      "[9 0 1 ... 5 3 8] [4 0 1 ... 5 8 0]\n",
      "Accuracy: 0.8207142857142857\n",
      "crossEntropy 1.9955709894183713\n",
      "n_Iteration: 80\n",
      "[9 0 1 ... 5 3 8] [4 0 1 ... 5 8 0]\n",
      "Accuracy: 0.8320408163265306\n",
      "crossEntropy 1.7823801812542208\n",
      "n_Iteration: 100\n",
      "[9 0 1 ... 5 3 8] [4 0 1 ... 5 8 0]\n",
      "Accuracy: 0.8407482993197279\n",
      "crossEntropy 1.61888313409676\n",
      "n_Iteration: 120\n",
      "[9 0 1 ... 5 3 8] [4 0 1 ... 5 8 0]\n",
      "Accuracy: 0.8399319727891157\n",
      "crossEntropy 1.5866631249529435\n",
      "n_Iteration: 140\n",
      "[9 0 1 ... 5 3 8] [4 0 1 ... 5 8 0]\n",
      "Accuracy: 0.8527551020408163\n",
      "crossEntropy 1.4298658739107826\n",
      "n_Iteration: 160\n",
      "[9 0 1 ... 5 3 8] [4 0 1 ... 5 8 0]\n",
      "Accuracy: 0.8576530612244898\n",
      "crossEntropy 1.3149653760771949\n",
      "n_Iteration: 180\n",
      "[9 0 1 ... 5 3 9] [4 0 1 ... 5 8 0]\n",
      "Accuracy: 0.7970408163265306\n",
      "crossEntropy 2.1388938368888137\n"
     ]
    }
   ],
   "source": [
    "W1,b1 = gradient_decent(X_Train,y_Train, 200, 0.0001)"
   ]
  },
  {
   "cell_type": "code",
   "execution_count": 26,
   "id": "58a9c965",
   "metadata": {},
   "outputs": [
    {
     "name": "stdout",
     "output_type": "stream",
     "text": [
      "[1 7 9 ... 0 5 5] [1 9 9 ... 0 5 5]\n"
     ]
    },
    {
     "data": {
      "text/plain": [
       "0.8592857142857143"
      ]
     },
     "execution_count": 26,
     "metadata": {},
     "output_type": "execute_result"
    }
   ],
   "source": [
    "_,pred_A1 = net(W1,b1,X_Test)\n",
    "get_accuracy(get_pred(pred_A1),y_Test)"
   ]
  }
 ],
 "metadata": {
  "kernelspec": {
   "display_name": "Python 3 (ipykernel)",
   "language": "python",
   "name": "python3"
  },
  "language_info": {
   "codemirror_mode": {
    "name": "ipython",
    "version": 3
   },
   "file_extension": ".py",
   "mimetype": "text/x-python",
   "name": "python",
   "nbconvert_exporter": "python",
   "pygments_lexer": "ipython3",
   "version": "3.9.18"
  }
 },
 "nbformat": 4,
 "nbformat_minor": 5
}
